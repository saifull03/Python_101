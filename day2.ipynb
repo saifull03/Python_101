{
 "cells": [
  {
   "cell_type": "code",
   "execution_count": 1,
   "id": "232f48a7",
   "metadata": {},
   "outputs": [
    {
     "name": "stdout",
     "output_type": "stream",
     "text": [
      "Hello world\n"
     ]
    }
   ],
   "source": [
    "print(\"Hello world\")\n"
   ]
  },
  {
   "cell_type": "markdown",
   "id": "b768aade",
   "metadata": {},
   "source": []
  },
  {
   "cell_type": "code",
   "execution_count": 8,
   "id": "60cb4134",
   "metadata": {},
   "outputs": [
    {
     "name": "stdout",
     "output_type": "stream",
     "text": [
      "Hello Saiful\n"
     ]
    }
   ],
   "source": [
    "def input_name():\n",
    "    \n",
    "    name =input(\"Youre name:\") #taking name as a input\n",
    "    \n",
    "    print(\"Hello \"+ name)  #printing name\n",
    "    \n",
    "input_name()    #calling the function\n",
    "\n",
    "\n",
    "\n",
    "    \n",
    "    "
   ]
  },
  {
   "cell_type": "markdown",
   "id": "2f8d17d3",
   "metadata": {},
   "source": [
    "# Basics of Python"
   ]
  },
  {
   "cell_type": "markdown",
   "id": "a5df5f61",
   "metadata": {},
   "source": [
    "-T"
   ]
  },
  {
   "cell_type": "code",
   "execution_count": null,
   "id": "79334aea",
   "metadata": {},
   "outputs": [
    {
     "name": "stdout",
     "output_type": "stream",
     "text": [
      "X is neither 3 nor 5\n"
     ]
    }
   ],
   "source": [
    "x= int(input(\"Enter a number\")) \n",
    "\n",
    "if x==3:\n",
    "    print(\"X is 3\") \n",
    "elif x==5:\n",
    "    print (\"X is 5\")\n",
    "else:\n",
    "    print (\"X is neither 3 nor 5\")        "
   ]
  },
  {
   "cell_type": "code",
   "execution_count": 4,
   "id": "9bba6023",
   "metadata": {},
   "outputs": [
    {
     "name": "stdout",
     "output_type": "stream",
     "text": [
      "X is not 5\n"
     ]
    }
   ],
   "source": [
    "if x != 5: # if x is not 3\n",
    "    print(\"X is not 5\")"
   ]
  },
  {
   "cell_type": "code",
   "execution_count": null,
   "id": "0df593d6",
   "metadata": {},
   "outputs": [],
   "source": []
  },
  {
   "cell_type": "code",
   "execution_count": 5,
   "id": "fe601c62",
   "metadata": {},
   "outputs": [
    {
     "name": "stdout",
     "output_type": "stream",
     "text": [
      "You got it\n"
     ]
    }
   ],
   "source": [
    "num = 5\n",
    "guess = int(input())\n",
    "\n",
    "if guess== num:\n",
    "    print(\"You got it\")\n",
    "else:\n",
    "    print(\"You are wrong\")    "
   ]
  },
  {
   "cell_type": "code",
   "execution_count": 11,
   "id": "bee4a55c",
   "metadata": {},
   "outputs": [
    {
     "name": "stdout",
     "output_type": "stream",
     "text": [
      "Your total bill is $50.00\n"
     ]
    }
   ],
   "source": [
    "entry = input(\"Do you have any discount?(yes/no):\")\n",
    "entry =entry.lower()\n",
    "if entry == \"yes\":\n",
    "       print(\"Your total bill is $45.00\")\n",
    "elif entry == \"no\":\n",
    "       print(\"Your total bill is $50.00\")  \n",
    "else :\n",
    "    print(\"Invalid entry\")            "
   ]
  },
  {
   "cell_type": "code",
   "execution_count": 16,
   "id": "8407a6f2",
   "metadata": {},
   "outputs": [
    {
     "name": "stdout",
     "output_type": "stream",
     "text": [
      "100 90 80 70 60 50 40 30 20 10 "
     ]
    }
   ],
   "source": [
    "for i in range(100,1,-5):\n",
    "    if i%2 == 0:\n",
    "        print(i, end=\" \")"
   ]
  },
  {
   "cell_type": "code",
   "execution_count": 20,
   "id": "ccbd5e0b",
   "metadata": {},
   "outputs": [
    {
     "name": "stdout",
     "output_type": "stream",
     "text": [
      "Your name is: Md Saiful Islam\n",
      "Number of vowels in your name is: 5\n",
      "Number of the consonents 8\n"
     ]
    }
   ],
   "source": [
    "name = input(\"Write your name\")\n",
    "print(f\"Your name is: {name}\")\n",
    "name =name.lower()\n",
    "vowels= name.count('a') +  name.count('e') +  name.count('i') +  name.count('o') +  name.count('u')\n",
    "print(f\"Number of vowels in your name is: {vowels}\")\n",
    "consonent = len(name)-vowels - name.count(' ')\n",
    "\n",
    "print(f\"Number of the consonents {consonent}\")"
   ]
  },
  {
   "cell_type": "code",
   "execution_count": null,
   "id": "9a0b2a6e",
   "metadata": {},
   "outputs": [],
   "source": [
    "name = input(\"Write your name\")\n",
    "print(f\"Your name is: {name}\")\n",
    "name =name.lower()\n",
    "vowels= name.count('a') +  name.count('e') +  name.count('i') +  name.count('o') +  name.count('u')\n",
    "print(f\"Number of vowels in your name is: {vowels}\")\n",
    "consonent = len(name)-vowels - name.count(' ')\n",
    "\n",
    "print(f\"Number of the consonents {consonent}\")"
   ]
  },
  {
   "cell_type": "code",
   "execution_count": null,
   "id": "c65e9ef5",
   "metadata": {},
   "outputs": [
    {
     "name": "stdout",
     "output_type": "stream",
     "text": [
      "96\n",
      "Too high\n",
      "Too high\n",
      "Too Low\n",
      "You guess the write number\n",
      "You have tried 4 times\n"
     ]
    }
   ],
   "source": [
    "from random import randint\n",
    "num = randint(1,100)\n",
    "print(num)\n",
    "\n",
    "i=0\n",
    "while True:\n",
    "    userInput = int(input(\"\"))\n",
    "    i+=1 \n",
    "    if num==userInput:\n",
    "        print(\"You guess the write number\")  \n",
    "        break\n",
    "       \n",
    "    elif num<userInput:\n",
    "        print(\"Too Low\") \n",
    "        continue \n",
    "    elif num>userInput:\n",
    "          \n",
    "        print(\"Too high\")\n",
    "        continue\n",
    "print(f\"You have tried {i} times\")           "
   ]
  },
  {
   "cell_type": "code",
   "execution_count": null,
   "id": "bf966fa5",
   "metadata": {},
   "outputs": [],
   "source": []
  },
  {
   "cell_type": "code",
   "execution_count": null,
   "id": "1f972ea9",
   "metadata": {},
   "outputs": [],
   "source": []
  }
 ],
 "metadata": {
  "kernelspec": {
   "display_name": ".venv",
   "language": "python",
   "name": "python3"
  },
  "language_info": {
   "codemirror_mode": {
    "name": "ipython",
    "version": 3
   },
   "file_extension": ".py",
   "mimetype": "text/x-python",
   "name": "python",
   "nbconvert_exporter": "python",
   "pygments_lexer": "ipython3",
   "version": "3.11.4"
  }
 },
 "nbformat": 4,
 "nbformat_minor": 5
}
