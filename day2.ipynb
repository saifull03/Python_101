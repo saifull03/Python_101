{
 "cells": [
  {
   "cell_type": "code",
   "execution_count": 1,
   "id": "232f48a7",
   "metadata": {},
   "outputs": [
    {
     "name": "stdout",
     "output_type": "stream",
     "text": [
      "Hello world\n"
     ]
    }
   ],
   "source": [
    "print(\"Hello world\")\n"
   ]
  },
  {
   "cell_type": "markdown",
   "id": "b768aade",
   "metadata": {},
   "source": []
  },
  {
   "cell_type": "code",
   "execution_count": 8,
   "id": "60cb4134",
   "metadata": {},
   "outputs": [
    {
     "name": "stdout",
     "output_type": "stream",
     "text": [
      "Hello Saiful\n"
     ]
    }
   ],
   "source": [
    "def input_name():\n",
    "    \n",
    "    name =input(\"Youre name:\") #taking name as a input\n",
    "    \n",
    "    print(\"Hello \"+ name)  #printing name\n",
    "    \n",
    "input_name()    #calling the function\n",
    "\n",
    "\n",
    "\n",
    "    \n",
    "    "
   ]
  },
  {
   "cell_type": "markdown",
   "id": "2f8d17d3",
   "metadata": {},
   "source": [
    "# Basics of Python"
   ]
  },
  {
   "cell_type": "markdown",
   "id": "a5df5f61",
   "metadata": {},
   "source": [
    "-T"
   ]
  },
  {
   "cell_type": "code",
   "execution_count": null,
   "id": "79334aea",
   "metadata": {},
   "outputs": [
    {
     "name": "stdout",
     "output_type": "stream",
     "text": [
      "X is 3\n"
     ]
    }
   ],
   "source": [
    "x= int(input(\"Enter a number\")) \n",
    "\n",
    "if x==3:\n",
    "    print(\"X is 3\")\n",
    "elif(x==5):\n",
    "    print (\"X is 5\")\n",
    "else:\n",
    "    print (\"X is neither 3 nor 5\")        "
   ]
  },
  {
   "cell_type": "code",
   "execution_count": null,
   "id": "9bba6023",
   "metadata": {},
   "outputs": [],
   "source": []
  },
  {
   "cell_type": "code",
   "execution_count": null,
   "id": "0df593d6",
   "metadata": {},
   "outputs": [],
   "source": []
  }
 ],
 "metadata": {
  "kernelspec": {
   "display_name": ".venv",
   "language": "python",
   "name": "python3"
  },
  "language_info": {
   "codemirror_mode": {
    "name": "ipython",
    "version": 3
   },
   "file_extension": ".py",
   "mimetype": "text/x-python",
   "name": "python",
   "nbconvert_exporter": "python",
   "pygments_lexer": "ipython3",
   "version": "3.11.4"
  }
 },
 "nbformat": 4,
 "nbformat_minor": 5
}
