{
 "cells": [
  {
   "cell_type": "code",
   "execution_count": 1,
   "id": "232f48a7",
   "metadata": {},
   "outputs": [
    {
     "name": "stdout",
     "output_type": "stream",
     "text": [
      "Hello world\n"
     ]
    }
   ],
   "source": [
    "print(\"Hello world\")\n"
   ]
  },
  {
   "cell_type": "markdown",
   "id": "b768aade",
   "metadata": {},
   "source": []
  },
  {
   "cell_type": "code",
   "execution_count": 8,
   "id": "60cb4134",
   "metadata": {},
   "outputs": [
    {
     "name": "stdout",
     "output_type": "stream",
     "text": [
      "Hello Saiful\n"
     ]
    }
   ],
   "source": [
    "def input_name():\n",
    "    \n",
    "    name =input(\"Youre name:\") #taking name as a input\n",
    "    \n",
    "    print(\"Hello \"+ name)  #printing name\n",
    "    \n",
    "input_name()    #calling the function\n",
    "\n",
    "\n",
    "\n",
    "    \n",
    "    "
   ]
  },
  {
   "cell_type": "markdown",
   "id": "2f8d17d3",
   "metadata": {},
   "source": [
    "# Basics of Python"
   ]
  },
  {
   "cell_type": "markdown",
   "id": "a5df5f61",
   "metadata": {},
   "source": [
    "-T"
   ]
  },
  {
   "cell_type": "code",
   "execution_count": null,
   "id": "79334aea",
   "metadata": {},
   "outputs": [
    {
     "name": "stdout",
     "output_type": "stream",
     "text": [
      "X is neither 3 nor 5\n"
     ]
    }
   ],
   "source": [
    "x= int(input(\"Enter a number\")) \n",
    "\n",
    "if x==3:\n",
    "    print(\"X is 3\") \n",
    "elif x==5:\n",
    "    print (\"X is 5\")\n",
    "else:\n",
    "    print (\"X is neither 3 nor 5\")        "
   ]
  },
  {
   "cell_type": "code",
   "execution_count": 4,
   "id": "9bba6023",
   "metadata": {},
   "outputs": [
    {
     "name": "stdout",
     "output_type": "stream",
     "text": [
      "X is not 5\n"
     ]
    }
   ],
   "source": [
    "if x != 5: # if x is not 3\n",
    "    print(\"X is not 5\")"
   ]
  },
  {
   "cell_type": "code",
   "execution_count": null,
   "id": "0df593d6",
   "metadata": {},
   "outputs": [],
   "source": []
  },
  {
   "cell_type": "code",
   "execution_count": 5,
   "id": "fe601c62",
   "metadata": {},
   "outputs": [
    {
     "name": "stdout",
     "output_type": "stream",
     "text": [
      "You got it\n"
     ]
    }
   ],
   "source": [
    "num = 5\n",
    "guess = int(input())\n",
    "\n",
    "if guess== num:\n",
    "    print(\"You got it\")\n",
    "else:\n",
    "    print(\"You are wrong\")    "
   ]
  },
  {
   "cell_type": "code",
   "execution_count": 11,
   "id": "bee4a55c",
   "metadata": {},
   "outputs": [
    {
     "name": "stdout",
     "output_type": "stream",
     "text": [
      "Your total bill is $50.00\n"
     ]
    }
   ],
   "source": [
    "entry = input(\"Do you have any discount?(yes/no):\")\n",
    "entry =entry.lower()\n",
    "if entry == \"yes\":\n",
    "       print(\"Your total bill is $45.00\")\n",
    "elif entry == \"no\":\n",
    "       print(\"Your total bill is $50.00\")  \n",
    "else :\n",
    "    print(\"Invalid entry\")            "
   ]
  },
  {
   "cell_type": "code",
   "execution_count": 16,
   "id": "8407a6f2",
   "metadata": {},
   "outputs": [
    {
     "name": "stdout",
     "output_type": "stream",
     "text": [
      "100 90 80 70 60 50 40 30 20 10 "
     ]
    }
   ],
   "source": [
    "for i in range(100,1,-5):\n",
    "    if i%2 == 0:\n",
    "        print(i, end=\" \")"
   ]
  },
  {
   "cell_type": "code",
   "execution_count": 20,
   "id": "ccbd5e0b",
   "metadata": {},
   "outputs": [
    {
     "name": "stdout",
     "output_type": "stream",
     "text": [
      "Your name is: Md Saiful Islam\n",
      "Number of vowels in your name is: 5\n",
      "Number of the consonents 8\n"
     ]
    }
   ],
   "source": [
    "name = input(\"Write your name\")\n",
    "print(f\"Your name is: {name}\")\n",
    "name =name.lower()\n",
    "vowels= name.count('a') +  name.count('e') +  name.count('i') +  name.count('o') +  name.count('u')\n",
    "print(f\"Number of vowels in your name is: {vowels}\")\n",
    "consonent = len(name)-vowels - name.count(' ')\n",
    "\n",
    "print(f\"Number of the consonents {consonent}\")"
   ]
  },
  {
   "cell_type": "code",
   "execution_count": null,
   "id": "9a0b2a6e",
   "metadata": {},
   "outputs": [],
   "source": [
    "name = input(\"Write your name\")\n",
    "print(f\"Your name is: {name}\")\n",
    "name =name.lower()\n",
    "vowels= name.count('a') +  name.count('e') +  name.count('i') +  name.count('o') +  name.count('u')\n",
    "print(f\"Number of vowels in your name is: {vowels}\")\n",
    "consonent = len(name)-vowels - name.count(' ')\n",
    "\n",
    "print(f\"Number of the consonents {consonent}\")"
   ]
  },
  {
   "cell_type": "code",
   "execution_count": 5,
   "id": "c65e9ef5",
   "metadata": {},
   "outputs": [
    {
     "name": "stdout",
     "output_type": "stream",
     "text": [
      "Too High\n",
      "Too High\n",
      "Too Low\n",
      "Too Low\n",
      "Too Low\n",
      "Too High\n",
      "You guess the write number\n",
      "You have tried 7 times\n"
     ]
    }
   ],
   "source": [
    "from random import randint\n",
    "num = randint(1,100)\n",
    "#print(num)\n",
    "\n",
    "i=0\n",
    "while True:\n",
    "    userInput = int(input(\"\"))\n",
    "    i+=1 \n",
    "    if num==userInput:\n",
    "        print(\"You guess the write number\")  \n",
    "        break\n",
    "       \n",
    "    elif num<userInput:\n",
    "        print(\"Too High\") \n",
    "        continue \n",
    "    elif num>userInput:\n",
    "          \n",
    "        print(\"Too Low\")\n",
    "        continue\n",
    "    \n",
    "print(f\"You have tried {i} times\")           "
   ]
  },
  {
   "cell_type": "code",
   "execution_count": 3,
   "id": "27d15804",
   "metadata": {},
   "outputs": [],
   "source": [
    "numbers =[ 1,2,6,4,8,9,55,44,33,31]"
   ]
  },
  {
   "cell_type": "code",
   "execution_count": 6,
   "id": "bf966fa5",
   "metadata": {},
   "outputs": [
    {
     "data": {
      "text/plain": [
       "[6, 8, 10, 12, 14]"
      ]
     },
     "execution_count": 6,
     "metadata": {},
     "output_type": "execute_result"
    }
   ],
   "source": [
    "[x+5 for x  in range(1,10,2)]"
   ]
  },
  {
   "cell_type": "code",
   "execution_count": null,
   "id": "1f972ea9",
   "metadata": {},
   "outputs": [],
   "source": [
    "def squaree (i):\n",
    "    return "
   ]
  },
  {
   "cell_type": "code",
   "execution_count": 8,
   "id": "6fa48f78",
   "metadata": {},
   "outputs": [
    {
     "name": "stdout",
     "output_type": "stream",
     "text": [
      "[50, 100, 'No power up', 200, 'No power up', 150]\n"
     ]
    }
   ],
   "source": [
    "levels = [50,100,0,200,0,150]\n",
    "levels2=[]\n",
    "for x in levels:\n",
    "    if x==0:\n",
    "        levels2.append(\"No power up\")\n",
    "    else:\n",
    "        levels2.append(x)\n",
    "print(levels2)                    \n",
    "    \n",
    "\n",
    "\n"
   ]
  },
  {
   "cell_type": "code",
   "execution_count": 9,
   "id": "45735b77",
   "metadata": {},
   "outputs": [
    {
     "data": {
      "text/plain": [
       "[50, 100, 'no power up', 200, 'no power up', 150]"
      ]
     },
     "execution_count": 9,
     "metadata": {},
     "output_type": "execute_result"
    }
   ],
   "source": [
    "[\"no power up\"  if i==0 else i for i in levels] "
   ]
  },
  {
   "cell_type": "code",
   "execution_count": 14,
   "id": "f4293103",
   "metadata": {},
   "outputs": [
    {
     "name": "stdout",
     "output_type": "stream",
     "text": [
      "[2, 1, 0, 3]\n",
      "['No emojis here!']\n"
     ]
    }
   ],
   "source": [
    "import emoji\n",
    "messages = ['😊🎉', 'Hi there! 😊', 'No emojis here!', '🔥🔥😊']\n",
    "count=[]\n",
    "for x in messages:\n",
    "       count.append(emoji.emoji_count(x))\n",
    "print(count)\n",
    "withoutemoji=[x for x in messages if emoji.emoji_count(x)==0]\n",
    "print(withoutemoji)       \n",
    "           "
   ]
  }
 ],
 "metadata": {
  "kernelspec": {
   "display_name": ".venv",
   "language": "python",
   "name": "python3"
  },
  "language_info": {
   "codemirror_mode": {
    "name": "ipython",
    "version": 3
   },
   "file_extension": ".py",
   "mimetype": "text/x-python",
   "name": "python",
   "nbconvert_exporter": "python",
   "pygments_lexer": "ipython3",
   "version": "3.11.4"
  }
 },
 "nbformat": 4,
 "nbformat_minor": 5
}
